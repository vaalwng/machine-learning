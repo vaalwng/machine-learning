{
 "cells": [
  {
   "cell_type": "markdown",
   "id": "3704058f",
   "metadata": {},
   "source": [
    "## Homework 9 - Machine Learning with Python\n",
    "### Author: Val Wong - vmw170030\n",
    "#### 4/25/2021"
   ]
  },
  {
   "cell_type": "markdown",
   "id": "9e7758e8",
   "metadata": {},
   "source": [
    "---\n",
    "### Step 1 - Loading the Data\n",
    "Data on shots taken during the 2014-2015 season, who took the shot, where on the floor was the shot taken from, who was the nearest defender, how far away was the nearest defender, time on the shot clock, and much more. The column titles are generally self-explanatory.\n",
    "\n",
    "Useful for evaluating who the best shooter is, who the best defender is, the hot-hand hypothesis, etc. Scraped from NBA’s REST API.\n",
    "\n",
    "Source: https://www.kaggle.com/dansbecker/nba-shot-logs"
   ]
  },
  {
   "cell_type": "code",
   "execution_count": 1,
   "id": "18da2fd7",
   "metadata": {},
   "outputs": [],
   "source": [
    "import pandas as pd\n",
    "df = pd.read_csv(\"nba_shot_logs.csv\")"
   ]
  },
  {
   "cell_type": "markdown",
   "id": "1171e8dd",
   "metadata": {},
   "source": [
    "---\n",
    "### Step 2 - Data Cleaning\n",
    "In this data set, the column ‘Shot_Clock’ contains NAs, which is replaced with either the mean of the column. Lastly, we factor columns that need to be factored to levels."
   ]
  },
  {
   "cell_type": "code",
   "execution_count": 2,
   "id": "3998c0b6",
   "metadata": {},
   "outputs": [
    {
     "data": {
      "text/plain": [
       "GAME_ID                       0\n",
       "MATCHUP                       0\n",
       "LOCATION                      0\n",
       "W                             0\n",
       "FINAL_MARGIN                  0\n",
       "SHOT_NUMBER                   0\n",
       "PERIOD                        0\n",
       "GAME_CLOCK                    0\n",
       "SHOT_CLOCK                    0\n",
       "DRIBBLES                      0\n",
       "TOUCH_TIME                    0\n",
       "SHOT_DIST                     0\n",
       "PTS_TYPE                      0\n",
       "SHOT_RESULT                   0\n",
       "CLOSEST_DEFENDER              0\n",
       "CLOSEST_DEFENDER_PLAYER_ID    0\n",
       "CLOSE_DEF_DIST                0\n",
       "FGM                           0\n",
       "PTS                           0\n",
       "player_name                   0\n",
       "player_id                     0\n",
       "dtype: int64"
      ]
     },
     "execution_count": 2,
     "metadata": {},
     "output_type": "execute_result"
    }
   ],
   "source": [
    "import numpy as np\n",
    "shotlog_mean = np.mean(df.SHOT_CLOCK)\n",
    "df.SHOT_CLOCK.fillna(shotlog_mean, inplace=True)\n",
    "df.isnull().sum()"
   ]
  },
  {
   "cell_type": "code",
   "execution_count": 3,
   "id": "182a155d",
   "metadata": {},
   "outputs": [],
   "source": [
    "df.SHOT_RESULT = df.SHOT_RESULT.astype('category') # factor()"
   ]
  },
  {
   "cell_type": "markdown",
   "id": "c306a9ad",
   "metadata": {},
   "source": [
    "---\n",
    "### Step 3 - Data Exploration"
   ]
  },
  {
   "cell_type": "code",
   "execution_count": 4,
   "id": "0e212018",
   "metadata": {},
   "outputs": [
    {
     "name": "stdout",
     "output_type": "stream",
     "text": [
      "\n",
      "Dimensions of the data frame: (128069, 21)\n"
     ]
    }
   ],
   "source": [
    "print('\\nDimensions of the data frame:', df.shape) # numofrows/cols"
   ]
  },
  {
   "cell_type": "code",
   "execution_count": 5,
   "id": "a0c11b11",
   "metadata": {},
   "outputs": [
    {
     "name": "stdout",
     "output_type": "stream",
     "text": [
      "Index(['GAME_ID', 'MATCHUP', 'LOCATION', 'W', 'FINAL_MARGIN', 'SHOT_NUMBER',\n",
      "       'PERIOD', 'GAME_CLOCK', 'SHOT_CLOCK', 'DRIBBLES', 'TOUCH_TIME',\n",
      "       'SHOT_DIST', 'PTS_TYPE', 'SHOT_RESULT', 'CLOSEST_DEFENDER',\n",
      "       'CLOSEST_DEFENDER_PLAYER_ID', 'CLOSE_DEF_DIST', 'FGM', 'PTS',\n",
      "       'player_name', 'player_id'],\n",
      "      dtype='object')\n"
     ]
    }
   ],
   "source": [
    "print(df.columns) # names"
   ]
  },
  {
   "cell_type": "code",
   "execution_count": 6,
   "id": "9d2e6ed3",
   "metadata": {},
   "outputs": [
    {
     "name": "stdout",
     "output_type": "stream",
     "text": [
      "<class 'pandas.core.frame.DataFrame'>\n",
      "RangeIndex: 128069 entries, 0 to 128068\n",
      "Data columns (total 21 columns):\n",
      " #   Column                      Non-Null Count   Dtype   \n",
      "---  ------                      --------------   -----   \n",
      " 0   GAME_ID                     128069 non-null  int64   \n",
      " 1   MATCHUP                     128069 non-null  object  \n",
      " 2   LOCATION                    128069 non-null  object  \n",
      " 3   W                           128069 non-null  object  \n",
      " 4   FINAL_MARGIN                128069 non-null  int64   \n",
      " 5   SHOT_NUMBER                 128069 non-null  int64   \n",
      " 6   PERIOD                      128069 non-null  int64   \n",
      " 7   GAME_CLOCK                  128069 non-null  object  \n",
      " 8   SHOT_CLOCK                  128069 non-null  float64 \n",
      " 9   DRIBBLES                    128069 non-null  int64   \n",
      " 10  TOUCH_TIME                  128069 non-null  float64 \n",
      " 11  SHOT_DIST                   128069 non-null  float64 \n",
      " 12  PTS_TYPE                    128069 non-null  int64   \n",
      " 13  SHOT_RESULT                 128069 non-null  category\n",
      " 14  CLOSEST_DEFENDER            128069 non-null  object  \n",
      " 15  CLOSEST_DEFENDER_PLAYER_ID  128069 non-null  int64   \n",
      " 16  CLOSE_DEF_DIST              128069 non-null  float64 \n",
      " 17  FGM                         128069 non-null  int64   \n",
      " 18  PTS                         128069 non-null  int64   \n",
      " 19  player_name                 128069 non-null  object  \n",
      " 20  player_id                   128069 non-null  int64   \n",
      "dtypes: category(1), float64(4), int64(10), object(6)\n",
      "memory usage: 19.7+ MB\n",
      "None\n"
     ]
    }
   ],
   "source": [
    "print(df.info()) # str"
   ]
  },
  {
   "cell_type": "code",
   "execution_count": 7,
   "id": "82b57e7c",
   "metadata": {},
   "outputs": [
    {
     "data": {
      "text/html": [
       "<div>\n",
       "<style scoped>\n",
       "    .dataframe tbody tr th:only-of-type {\n",
       "        vertical-align: middle;\n",
       "    }\n",
       "\n",
       "    .dataframe tbody tr th {\n",
       "        vertical-align: top;\n",
       "    }\n",
       "\n",
       "    .dataframe thead th {\n",
       "        text-align: right;\n",
       "    }\n",
       "</style>\n",
       "<table border=\"1\" class=\"dataframe\">\n",
       "  <thead>\n",
       "    <tr style=\"text-align: right;\">\n",
       "      <th></th>\n",
       "      <th>GAME_ID</th>\n",
       "      <th>FINAL_MARGIN</th>\n",
       "      <th>SHOT_NUMBER</th>\n",
       "      <th>PERIOD</th>\n",
       "      <th>SHOT_CLOCK</th>\n",
       "      <th>DRIBBLES</th>\n",
       "      <th>TOUCH_TIME</th>\n",
       "      <th>SHOT_DIST</th>\n",
       "      <th>PTS_TYPE</th>\n",
       "      <th>CLOSEST_DEFENDER_PLAYER_ID</th>\n",
       "      <th>CLOSE_DEF_DIST</th>\n",
       "      <th>FGM</th>\n",
       "      <th>PTS</th>\n",
       "      <th>player_id</th>\n",
       "    </tr>\n",
       "  </thead>\n",
       "  <tbody>\n",
       "    <tr>\n",
       "      <th>count</th>\n",
       "      <td>1.280690e+05</td>\n",
       "      <td>128069.000000</td>\n",
       "      <td>128069.000000</td>\n",
       "      <td>128069.000000</td>\n",
       "      <td>128069.000000</td>\n",
       "      <td>128069.000000</td>\n",
       "      <td>128069.000000</td>\n",
       "      <td>128069.000000</td>\n",
       "      <td>128069.000000</td>\n",
       "      <td>128069.000000</td>\n",
       "      <td>128069.000000</td>\n",
       "      <td>128069.000000</td>\n",
       "      <td>128069.000000</td>\n",
       "      <td>128069.000000</td>\n",
       "    </tr>\n",
       "    <tr>\n",
       "      <th>mean</th>\n",
       "      <td>2.140045e+07</td>\n",
       "      <td>0.208723</td>\n",
       "      <td>6.506899</td>\n",
       "      <td>2.469427</td>\n",
       "      <td>12.453344</td>\n",
       "      <td>2.023355</td>\n",
       "      <td>2.765901</td>\n",
       "      <td>13.571504</td>\n",
       "      <td>2.264670</td>\n",
       "      <td>159038.487284</td>\n",
       "      <td>4.123015</td>\n",
       "      <td>0.452139</td>\n",
       "      <td>0.997314</td>\n",
       "      <td>157238.251247</td>\n",
       "    </tr>\n",
       "    <tr>\n",
       "      <th>std</th>\n",
       "      <td>2.578773e+02</td>\n",
       "      <td>13.233267</td>\n",
       "      <td>4.713260</td>\n",
       "      <td>1.139919</td>\n",
       "      <td>5.636611</td>\n",
       "      <td>3.477760</td>\n",
       "      <td>3.043682</td>\n",
       "      <td>8.888964</td>\n",
       "      <td>0.441159</td>\n",
       "      <td>78791.172947</td>\n",
       "      <td>2.756446</td>\n",
       "      <td>0.497706</td>\n",
       "      <td>1.130978</td>\n",
       "      <td>79362.389336</td>\n",
       "    </tr>\n",
       "    <tr>\n",
       "      <th>min</th>\n",
       "      <td>2.140000e+07</td>\n",
       "      <td>-53.000000</td>\n",
       "      <td>1.000000</td>\n",
       "      <td>1.000000</td>\n",
       "      <td>0.000000</td>\n",
       "      <td>0.000000</td>\n",
       "      <td>-163.600000</td>\n",
       "      <td>0.000000</td>\n",
       "      <td>2.000000</td>\n",
       "      <td>708.000000</td>\n",
       "      <td>0.000000</td>\n",
       "      <td>0.000000</td>\n",
       "      <td>0.000000</td>\n",
       "      <td>708.000000</td>\n",
       "    </tr>\n",
       "    <tr>\n",
       "      <th>25%</th>\n",
       "      <td>2.140023e+07</td>\n",
       "      <td>-8.000000</td>\n",
       "      <td>3.000000</td>\n",
       "      <td>1.000000</td>\n",
       "      <td>8.400000</td>\n",
       "      <td>0.000000</td>\n",
       "      <td>0.900000</td>\n",
       "      <td>4.700000</td>\n",
       "      <td>2.000000</td>\n",
       "      <td>101249.000000</td>\n",
       "      <td>2.300000</td>\n",
       "      <td>0.000000</td>\n",
       "      <td>0.000000</td>\n",
       "      <td>101162.000000</td>\n",
       "    </tr>\n",
       "    <tr>\n",
       "      <th>50%</th>\n",
       "      <td>2.140045e+07</td>\n",
       "      <td>1.000000</td>\n",
       "      <td>5.000000</td>\n",
       "      <td>2.000000</td>\n",
       "      <td>12.453344</td>\n",
       "      <td>1.000000</td>\n",
       "      <td>1.600000</td>\n",
       "      <td>13.700000</td>\n",
       "      <td>2.000000</td>\n",
       "      <td>201949.000000</td>\n",
       "      <td>3.700000</td>\n",
       "      <td>0.000000</td>\n",
       "      <td>0.000000</td>\n",
       "      <td>201939.000000</td>\n",
       "    </tr>\n",
       "    <tr>\n",
       "      <th>75%</th>\n",
       "      <td>2.140067e+07</td>\n",
       "      <td>9.000000</td>\n",
       "      <td>9.000000</td>\n",
       "      <td>3.000000</td>\n",
       "      <td>16.400000</td>\n",
       "      <td>2.000000</td>\n",
       "      <td>3.700000</td>\n",
       "      <td>22.500000</td>\n",
       "      <td>3.000000</td>\n",
       "      <td>203079.000000</td>\n",
       "      <td>5.300000</td>\n",
       "      <td>1.000000</td>\n",
       "      <td>2.000000</td>\n",
       "      <td>202704.000000</td>\n",
       "    </tr>\n",
       "    <tr>\n",
       "      <th>max</th>\n",
       "      <td>2.140091e+07</td>\n",
       "      <td>53.000000</td>\n",
       "      <td>38.000000</td>\n",
       "      <td>7.000000</td>\n",
       "      <td>24.000000</td>\n",
       "      <td>32.000000</td>\n",
       "      <td>24.900000</td>\n",
       "      <td>47.200000</td>\n",
       "      <td>3.000000</td>\n",
       "      <td>530027.000000</td>\n",
       "      <td>53.200000</td>\n",
       "      <td>1.000000</td>\n",
       "      <td>3.000000</td>\n",
       "      <td>204060.000000</td>\n",
       "    </tr>\n",
       "  </tbody>\n",
       "</table>\n",
       "</div>"
      ],
      "text/plain": [
       "            GAME_ID   FINAL_MARGIN    SHOT_NUMBER         PERIOD  \\\n",
       "count  1.280690e+05  128069.000000  128069.000000  128069.000000   \n",
       "mean   2.140045e+07       0.208723       6.506899       2.469427   \n",
       "std    2.578773e+02      13.233267       4.713260       1.139919   \n",
       "min    2.140000e+07     -53.000000       1.000000       1.000000   \n",
       "25%    2.140023e+07      -8.000000       3.000000       1.000000   \n",
       "50%    2.140045e+07       1.000000       5.000000       2.000000   \n",
       "75%    2.140067e+07       9.000000       9.000000       3.000000   \n",
       "max    2.140091e+07      53.000000      38.000000       7.000000   \n",
       "\n",
       "          SHOT_CLOCK       DRIBBLES     TOUCH_TIME      SHOT_DIST  \\\n",
       "count  128069.000000  128069.000000  128069.000000  128069.000000   \n",
       "mean       12.453344       2.023355       2.765901      13.571504   \n",
       "std         5.636611       3.477760       3.043682       8.888964   \n",
       "min         0.000000       0.000000    -163.600000       0.000000   \n",
       "25%         8.400000       0.000000       0.900000       4.700000   \n",
       "50%        12.453344       1.000000       1.600000      13.700000   \n",
       "75%        16.400000       2.000000       3.700000      22.500000   \n",
       "max        24.000000      32.000000      24.900000      47.200000   \n",
       "\n",
       "            PTS_TYPE  CLOSEST_DEFENDER_PLAYER_ID  CLOSE_DEF_DIST  \\\n",
       "count  128069.000000               128069.000000   128069.000000   \n",
       "mean        2.264670               159038.487284        4.123015   \n",
       "std         0.441159                78791.172947        2.756446   \n",
       "min         2.000000                  708.000000        0.000000   \n",
       "25%         2.000000               101249.000000        2.300000   \n",
       "50%         2.000000               201949.000000        3.700000   \n",
       "75%         3.000000               203079.000000        5.300000   \n",
       "max         3.000000               530027.000000       53.200000   \n",
       "\n",
       "                 FGM            PTS      player_id  \n",
       "count  128069.000000  128069.000000  128069.000000  \n",
       "mean        0.452139       0.997314  157238.251247  \n",
       "std         0.497706       1.130978   79362.389336  \n",
       "min         0.000000       0.000000     708.000000  \n",
       "25%         0.000000       0.000000  101162.000000  \n",
       "50%         0.000000       0.000000  201939.000000  \n",
       "75%         1.000000       2.000000  202704.000000  \n",
       "max         1.000000       3.000000  204060.000000  "
      ]
     },
     "execution_count": 7,
     "metadata": {},
     "output_type": "execute_result"
    }
   ],
   "source": [
    "df.describe() # summary"
   ]
  },
  {
   "cell_type": "code",
   "execution_count": 8,
   "id": "295dc551",
   "metadata": {},
   "outputs": [
    {
     "name": "stdout",
     "output_type": "stream",
     "text": [
      "    GAME_ID                   MATCHUP LOCATION  W  FINAL_MARGIN  SHOT_NUMBER  \\\n",
      "0  21400899  MAR 04, 2015 - CHA @ BKN        A  W            24            1   \n",
      "1  21400899  MAR 04, 2015 - CHA @ BKN        A  W            24            2   \n",
      "2  21400899  MAR 04, 2015 - CHA @ BKN        A  W            24            3   \n",
      "3  21400899  MAR 04, 2015 - CHA @ BKN        A  W            24            4   \n",
      "4  21400899  MAR 04, 2015 - CHA @ BKN        A  W            24            5   \n",
      "\n",
      "   PERIOD GAME_CLOCK  SHOT_CLOCK  DRIBBLES  ...  SHOT_DIST  PTS_TYPE  \\\n",
      "0       1       1:09   10.800000         2  ...        7.7         2   \n",
      "1       1       0:14    3.400000         0  ...       28.2         3   \n",
      "2       1       0:00   12.453344         3  ...       10.1         2   \n",
      "3       2      11:47   10.300000         2  ...       17.2         2   \n",
      "4       2      10:34   10.900000         2  ...        3.7         2   \n",
      "\n",
      "   SHOT_RESULT   CLOSEST_DEFENDER CLOSEST_DEFENDER_PLAYER_ID  CLOSE_DEF_DIST  \\\n",
      "0         made     Anderson, Alan                     101187             1.3   \n",
      "1       missed  Bogdanovic, Bojan                     202711             6.1   \n",
      "2       missed  Bogdanovic, Bojan                     202711             0.9   \n",
      "3       missed      Brown, Markel                     203900             3.4   \n",
      "4       missed    Young, Thaddeus                     201152             1.1   \n",
      "\n",
      "   FGM  PTS    player_name player_id  \n",
      "0    1    2  brian roberts    203148  \n",
      "1    0    0  brian roberts    203148  \n",
      "2    0    0  brian roberts    203148  \n",
      "3    0    0  brian roberts    203148  \n",
      "4    0    0  brian roberts    203148  \n",
      "\n",
      "[5 rows x 21 columns]\n"
     ]
    }
   ],
   "source": [
    "print(df.head()) # head()"
   ]
  },
  {
   "cell_type": "code",
   "execution_count": 9,
   "id": "822e082b",
   "metadata": {},
   "outputs": [
    {
     "name": "stdout",
     "output_type": "stream",
     "text": [
      "         GAME_ID                   MATCHUP LOCATION  W  FINAL_MARGIN  \\\n",
      "128064  21400006  OCT 29, 2014 - BKN @ BOS        A  L           -16   \n",
      "128065  21400006  OCT 29, 2014 - BKN @ BOS        A  L           -16   \n",
      "128066  21400006  OCT 29, 2014 - BKN @ BOS        A  L           -16   \n",
      "128067  21400006  OCT 29, 2014 - BKN @ BOS        A  L           -16   \n",
      "128068  21400006  OCT 29, 2014 - BKN @ BOS        A  L           -16   \n",
      "\n",
      "        SHOT_NUMBER  PERIOD GAME_CLOCK  SHOT_CLOCK  DRIBBLES  ...  SHOT_DIST  \\\n",
      "128064            5       3       1:52   18.300000         5  ...        8.7   \n",
      "128065            6       4      11:28   19.800000         4  ...        0.6   \n",
      "128066            7       4      11:10   23.000000         2  ...       16.9   \n",
      "128067            8       4       2:37    9.100000         4  ...       18.3   \n",
      "128068            9       4       0:12   12.453344         5  ...        5.1   \n",
      "\n",
      "        PTS_TYPE  SHOT_RESULT  CLOSEST_DEFENDER CLOSEST_DEFENDER_PLAYER_ID  \\\n",
      "128064         2       missed     Smart, Marcus                     203935   \n",
      "128065         2         made      Turner, Evan                     202323   \n",
      "128066         2         made  Thornton, Marcus                     201977   \n",
      "128067         2       missed    Bradley, Avery                     202340   \n",
      "128068         2         made    Bradley, Avery                     202340   \n",
      "\n",
      "        CLOSE_DEF_DIST  FGM  PTS   player_name player_id  \n",
      "128064             0.8    0    0  jarrett jack    101127  \n",
      "128065             0.6    1    2  jarrett jack    101127  \n",
      "128066             4.2    1    2  jarrett jack    101127  \n",
      "128067             3.0    0    0  jarrett jack    101127  \n",
      "128068             2.3    1    2  jarrett jack    101127  \n",
      "\n",
      "[5 rows x 21 columns]\n"
     ]
    }
   ],
   "source": [
    "print(df.tail()) # tail()"
   ]
  },
  {
   "cell_type": "markdown",
   "id": "b2f148e7",
   "metadata": {},
   "source": [
    "**Data Exploration - Miscellaneous**"
   ]
  },
  {
   "cell_type": "code",
   "execution_count": 10,
   "id": "997664f1",
   "metadata": {},
   "outputs": [
    {
     "name": "stdout",
     "output_type": "stream",
     "text": [
      "Farthest shot distance:  47.2\n",
      "Total Made Shots: 57905\n",
      "Total Missed Shots: 70164\n"
     ]
    }
   ],
   "source": [
    "print(\"Farthest shot distance: \", np.max(df.SHOT_DIST))\n",
    "print(\"Total Made Shots:\", (df['SHOT_RESULT'] == 'made').sum())\n",
    "print(\"Total Missed Shots:\", (df['SHOT_RESULT'] == 'missed').sum())"
   ]
  },
  {
   "cell_type": "markdown",
   "id": "414111a5",
   "metadata": {},
   "source": [
    "**Data Visualization**"
   ]
  },
  {
   "cell_type": "code",
   "execution_count": 11,
   "id": "83c1cfe5",
   "metadata": {},
   "outputs": [
    {
     "data": {
      "text/plain": [
       "<seaborn.axisgrid.FacetGrid at 0x25d2c231760>"
      ]
     },
     "execution_count": 11,
     "metadata": {},
     "output_type": "execute_result"
    },
    {
     "data": {
      "image/png": "[encoded data removed]",
      "text/plain": [
       "<Figure size 360x360 with 1 Axes>"
      ]
     },
     "metadata": {
      "needs_background": "light"
     },
     "output_type": "display_data"
    }
   ],
   "source": [
    "import seaborn as sb\n",
    "sb.catplot(x=\"SHOT_RESULT\", kind=\"count\", data=df)"
   ]
  },
  {
   "cell_type": "code",
   "execution_count": 12,
   "id": "9de24410",
   "metadata": {},
   "outputs": [
    {
     "data": {
      "text/plain": [
       "<seaborn.axisgrid.FacetGrid at 0x25d44260d60>"
      ]
     },
     "execution_count": 12,
     "metadata": {},
     "output_type": "execute_result"
    },
    {
     "data": {
      "image/png": "[encoded data removed]",
      "text/plain": [
       "<Figure size 360x360 with 1 Axes>"
      ]
     },
     "metadata": {
      "needs_background": "light"
     },
     "output_type": "display_data"
    }
   ],
   "source": [
    "sb.catplot(x=\"TOUCH_TIME\", kind=\"count\", data=df)"
   ]
  },
  {
   "cell_type": "code",
   "execution_count": 13,
   "id": "339cc9fc",
   "metadata": {},
   "outputs": [
    {
     "data": {
      "text/plain": [
       "<seaborn.axisgrid.FacetGrid at 0x25d5e4ae610>"
      ]
     },
     "execution_count": 13,
     "metadata": {},
     "output_type": "execute_result"
    },
    {
     "data": {
      "image/png": "[encoded data removed]",
      "text/plain": [
       "<Figure size 360x360 with 1 Axes>"
      ]
     },
     "metadata": {
      "needs_background": "light"
     },
     "output_type": "display_data"
    }
   ],
   "source": [
    "sb.catplot(x=\"SHOT_DIST\", kind=\"count\", data=df)"
   ]
  },
  {
   "cell_type": "code",
   "execution_count": 14,
   "id": "e26fb1fe",
   "metadata": {},
   "outputs": [
    {
     "data": {
      "text/plain": [
       "<seaborn.axisgrid.FacetGrid at 0x25d2c2310d0>"
      ]
     },
     "execution_count": 14,
     "metadata": {},
     "output_type": "execute_result"
    },
    {
     "data": {
      "image/png": "[encoded data removed]",
      "text/plain": [
       "<Figure size 360x360 with 1 Axes>"
      ]
     },
     "metadata": {
      "needs_background": "light"
     },
     "output_type": "display_data"
    }
   ],
   "source": [
    "sb.catplot(x=\"CLOSE_DEF_DIST\", kind=\"count\", data=df)"
   ]
  },
  {
   "cell_type": "code",
   "execution_count": 15,
   "id": "f1df664e",
   "metadata": {},
   "outputs": [
    {
     "data": {
      "text/plain": [
       "<seaborn.axisgrid.FacetGrid at 0x25d62497370>"
      ]
     },
     "execution_count": 15,
     "metadata": {},
     "output_type": "execute_result"
    },
    {
     "data": {
      "image/png": "[encoded data removed]",
      "text/plain": [
       "<Figure size 360x360 with 1 Axes>"
      ]
     },
     "metadata": {
      "needs_background": "light"
     },
     "output_type": "display_data"
    }
   ],
   "source": [
    "sb.catplot(x=\"SHOT_CLOCK\", kind=\"count\", data=df)"
   ]
  },
  {
   "cell_type": "markdown",
   "id": "9b5a981c",
   "metadata": {},
   "source": [
    "### Step 4 - Dividing into Train and Test sets\n",
    "\n",
    "Divide data randomly. 75% into Train and 25% into Test."
   ]
  },
  {
   "cell_type": "code",
   "execution_count": 16,
   "id": "a5a557f1",
   "metadata": {},
   "outputs": [
    {
     "name": "stdout",
     "output_type": "stream",
     "text": [
      "train size: (96051, 4)\n",
      "test size: (32018, 4)\n"
     ]
    }
   ],
   "source": [
    "from sklearn.model_selection import train_test_split\n",
    "\n",
    "X = df[[\"DRIBBLES\", \"SHOT_DIST\", \"CLOSE_DEF_DIST\", \"SHOT_CLOCK\"]]\n",
    "y = df[[\"SHOT_RESULT\"]]\n",
    "\n",
    "X_train, X_test, y_train, y_test = train_test_split(X, y, test_size=0.25, \n",
    "                                                    random_state=1234)\n",
    "\n",
    "print('train size:', X_train.shape)\n",
    "print('test size:', X_test.shape)"
   ]
  },
  {
   "cell_type": "markdown",
   "id": "6d414b79",
   "metadata": {},
   "source": [
    "### Step 5.0 - Logistic Regression\n",
    "Logistic Regression Model exhibits good probabilistic output and is computationally inexpensive. The simplicity of Logistic regression and effectiveness only works optimally on linear data. With However, it can\n",
    "prove to have poor performance on nonlinear data."
   ]
  },
  {
   "cell_type": "code",
   "execution_count": 17,
   "id": "376d40c4",
   "metadata": {},
   "outputs": [
    {
     "data": {
      "text/plain": [
       "0.6089993857429907"
      ]
     },
     "execution_count": 17,
     "metadata": {},
     "output_type": "execute_result"
    }
   ],
   "source": [
    "from sklearn.linear_model import LogisticRegression\n",
    "\n",
    "glm = LogisticRegression()\n",
    "glm.fit(X_train, y_train.values.ravel()) # glm.fit(X_train, y_train) - DataConversionWarning\n",
    "glm.score(X_train, y_train)"
   ]
  },
  {
   "cell_type": "code",
   "execution_count": 18,
   "id": "b4963ce5",
   "metadata": {},
   "outputs": [
    {
     "name": "stdout",
     "output_type": "stream",
     "text": [
      "              precision    recall  f1-score   support\n",
      "\n",
      "        made       0.58      0.47      0.52     14510\n",
      "      missed       0.62      0.72      0.67     17508\n",
      "\n",
      "    accuracy                           0.61     32018\n",
      "   macro avg       0.60      0.60      0.59     32018\n",
      "weighted avg       0.60      0.61      0.60     32018\n",
      "\n",
      "Accuracy score:  0.6077831219938784\n"
     ]
    }
   ],
   "source": [
    "glm_pred = glm.predict(X_test)\n",
    "\n",
    "from sklearn.metrics import classification_report\n",
    "\n",
    "print(classification_report(y_test, glm_pred))\n",
    "\n",
    "from sklearn.metrics import accuracy_score\n",
    "\n",
    "print('Accuracy score: ', accuracy_score(y_test, glm_pred))"
   ]
  },
  {
   "cell_type": "code",
   "execution_count": 19,
   "id": "67719009",
   "metadata": {},
   "outputs": [
    {
     "data": {
      "text/plain": [
       "array([[ 6865,  7645],\n",
       "       [ 4913, 12595]], dtype=int64)"
      ]
     },
     "execution_count": 19,
     "metadata": {},
     "output_type": "execute_result"
    }
   ],
   "source": [
    "from sklearn.metrics import confusion_matrix\n",
    "\n",
    "confusion_matrix(y_test, glm_pred)"
   ]
  },
  {
   "cell_type": "markdown",
   "id": "fffb4461",
   "metadata": {},
   "source": [
    "### Step 5.1 - Naive Bayes Model\n",
    "I selected the Naive Model for its real-time predicting as it can prove to be very fast in terms of performance but is weak when predictors are not independent (naive assumption). I, also, selected Naive Bayes as to act\n",
    "as a good baseline in comparing performances of other classification algorithms."
   ]
  },
  {
   "cell_type": "code",
   "execution_count": 20,
   "id": "4f1286e7",
   "metadata": {},
   "outputs": [
    {
     "data": {
      "text/plain": [
       "0.5930703480442682"
      ]
     },
     "execution_count": 20,
     "metadata": {},
     "output_type": "execute_result"
    }
   ],
   "source": [
    "from sklearn.naive_bayes import MultinomialNB\n",
    "\n",
    "nb = MultinomialNB()\n",
    "nb.fit(X_train, y_train.values.ravel())\n",
    "nb.score(X_train, y_train)"
   ]
  },
  {
   "cell_type": "code",
   "execution_count": 21,
   "id": "10181ef0",
   "metadata": {},
   "outputs": [
    {
     "name": "stdout",
     "output_type": "stream",
     "text": [
      "              precision    recall  f1-score   support\n",
      "\n",
      "        made       0.56      0.52      0.54     14510\n",
      "      missed       0.62      0.65      0.64     17508\n",
      "\n",
      "    accuracy                           0.59     32018\n",
      "   macro avg       0.59      0.59      0.59     32018\n",
      "weighted avg       0.59      0.59      0.59     32018\n",
      "\n",
      "Accuracy score:  0.594884127678181\n"
     ]
    }
   ],
   "source": [
    "nb_pred = nb.predict(X_test)\n",
    "\n",
    "from sklearn.metrics import classification_report\n",
    "\n",
    "print(classification_report(y_test, nb_pred))\n",
    "\n",
    "from sklearn.metrics import accuracy_score\n",
    "\n",
    "print('Accuracy score: ', accuracy_score(y_test, nb_pred))"
   ]
  },
  {
   "cell_type": "code",
   "execution_count": 22,
   "id": "794cb81f",
   "metadata": {},
   "outputs": [
    {
     "data": {
      "text/plain": [
       "array([[ 7597,  6913],\n",
       "       [ 6058, 11450]], dtype=int64)"
      ]
     },
     "execution_count": 22,
     "metadata": {},
     "output_type": "execute_result"
    }
   ],
   "source": [
    "from sklearn.metrics import confusion_matrix\n",
    "\n",
    "confusion_matrix(y_test, nb_pred)"
   ]
  },
  {
   "cell_type": "markdown",
   "id": "3fad5bdd",
   "metadata": {},
   "source": [
    "### Step 5.2 - kNN Classification Model\n",
    "I selected the kNN Classification Model for its advantages in making no assumptions about the shape of the data. However, because I am using it with high dimensions, it could possibly suffer from poor performance."
   ]
  },
  {
   "cell_type": "code",
   "execution_count": 23,
   "id": "d625fd84",
   "metadata": {},
   "outputs": [
    {
     "data": {
      "text/plain": [
       "KNeighborsClassifier(n_neighbors=1)"
      ]
     },
     "execution_count": 23,
     "metadata": {},
     "output_type": "execute_result"
    }
   ],
   "source": [
    "from sklearn.neighbors import KNeighborsClassifier\n",
    "\n",
    "knn = KNeighborsClassifier(n_neighbors = 1)\n",
    "knn.fit(X_train, y_train.values.ravel())"
   ]
  },
  {
   "cell_type": "code",
   "execution_count": 24,
   "id": "887e9a1c",
   "metadata": {},
   "outputs": [
    {
     "name": "stdout",
     "output_type": "stream",
     "text": [
      "              precision    recall  f1-score   support\n",
      "\n",
      "        made       0.49      0.49      0.49     14510\n",
      "      missed       0.57      0.57      0.57     17508\n",
      "\n",
      "    accuracy                           0.53     32018\n",
      "   macro avg       0.53      0.53      0.53     32018\n",
      "weighted avg       0.53      0.53      0.53     32018\n",
      "\n",
      "Accuracy score:  0.5342932100693359\n"
     ]
    }
   ],
   "source": [
    "knn_pred = knn.predict(X_test)\n",
    "\n",
    "from sklearn.metrics import classification_report\n",
    "\n",
    "print(classification_report(y_test, knn_pred))\n",
    "\n",
    "from sklearn.metrics import accuracy_score\n",
    "\n",
    "print('Accuracy score: ', accuracy_score(y_test, knn_pred))"
   ]
  },
  {
   "cell_type": "code",
   "execution_count": 25,
   "id": "b1c9e567",
   "metadata": {},
   "outputs": [
    {
     "data": {
      "text/plain": [
       "array([[7118, 7392],\n",
       "       [7519, 9989]], dtype=int64)"
      ]
     },
     "execution_count": 25,
     "metadata": {},
     "output_type": "execute_result"
    }
   ],
   "source": [
    "from sklearn.metrics import confusion_matrix\n",
    "\n",
    "confusion_matrix(y_test, knn_pred)"
   ]
  },
  {
   "cell_type": "markdown",
   "id": "4633f25b",
   "metadata": {},
   "source": [
    "### Step 6 - Results Analysis"
   ]
  },
  {
   "cell_type": "markdown",
   "id": "0d879688",
   "metadata": {},
   "source": [
    "**Python:**\n",
    "- **Logistic Regression Accuracy score:**  0.6077831219938784\n",
    "- **Naive Bayes Accuracy score:**  0.594884127678181\n",
    "- **kNN Classification Accuracy score:**  0.5342932100693359\n",
    "\n",
    "**R:**\n",
    "- **Logistic Regression Accuracy score:** 0.6095 \n",
    "- **Naive Bayes Accuracy score:** 0.5937 \n",
    "- **kNN Classification Accuracy score:** 0.5438\n",
    "\n",
    "\n",
    "Overall, it seems that R implementation of the algorithms performed better than their R counterpart, except for Naive Bayes which achieved a better accuracy score (but only by hundredth). Logistic Regression ranked first, Naive Bayes performed second-best, and kNN performed worst of the three. This ranking was exhibited in the R implementation as well which further strengthens my result analysis in the project. In running the algorithms, it was a lot faster in doing so when compared to R. Especially, the kNN algorithm which seemed like it was instant in Python but took a while in R. \n",
    "\n",
    "In coding the Python version of these algorithms, it seemed a lot simpler to implement as it required less commands to do so. Knowing what library what function comes from is more vital in doing Machine Learning in Python as it does in R. After that, however, it's a lot simpler to create the model and predict as it they only differ in the model function. I, also, had an impression that a lot of the python counterparts felt a bit more updated. I did run into some trouble when I was attempting to select specific columns and passing Train/Test sets into some functions (which I had to ravel()). But this roots from being unfamiliar with functions and their nature (parameters and return types). Overall, I am still very interested in the Python version of Machine Learning as Python has been one of my favorite programming languages to get better at."
   ]
  }
 ],
 "metadata": {
  "kernelspec": {
   "display_name": "Python 3",
   "language": "python",
   "name": "python3"
  },
  "language_info": {
   "codemirror_mode": {
    "name": "ipython",
    "version": 3
   },
   "file_extension": ".py",
   "mimetype": "text/x-python",
   "name": "python",
   "nbconvert_exporter": "python",
   "pygments_lexer": "ipython3",
   "version": "3.9.4"
  }
 },
 "nbformat": 4,
 "nbformat_minor": 5
}
